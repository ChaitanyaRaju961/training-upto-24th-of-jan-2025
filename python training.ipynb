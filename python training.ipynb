{
 "cells": [
  {
   "cell_type": "code",
   "execution_count": 1,
   "id": "db959182",
   "metadata": {},
   "outputs": [],
   "source": [
    "m2=10"
   ]
  },
  {
   "cell_type": "code",
   "execution_count": 2,
   "id": "ccdbd410",
   "metadata": {},
   "outputs": [
    {
     "ename": "SyntaxError",
     "evalue": "invalid decimal literal (2861989573.py, line 1)",
     "output_type": "error",
     "traceback": [
      "\u001b[1;36m  Cell \u001b[1;32mIn[2], line 1\u001b[1;36m\u001b[0m\n\u001b[1;33m    2m=5\u001b[0m\n\u001b[1;37m    ^\u001b[0m\n\u001b[1;31mSyntaxError\u001b[0m\u001b[1;31m:\u001b[0m invalid decimal literal\n"
     ]
    }
   ],
   "source": [
    "2m=5"
   ]
  },
  {
   "cell_type": "code",
   "execution_count": 3,
   "id": "18722302",
   "metadata": {},
   "outputs": [
    {
     "name": "stdout",
     "output_type": "stream",
     "text": [
      "20\n"
     ]
    }
   ],
   "source": [
    "a=10\n",
    "a+=10\n",
    "print(a)"
   ]
  },
  {
   "cell_type": "code",
   "execution_count": 4,
   "id": "22ada5ea",
   "metadata": {},
   "outputs": [
    {
     "name": "stdout",
     "output_type": "stream",
     "text": [
      "0\n"
     ]
    }
   ],
   "source": [
    "a=10\n",
    "a-=10\n",
    "print(a)"
   ]
  },
  {
   "cell_type": "code",
   "execution_count": 5,
   "id": "73ff7ff4",
   "metadata": {},
   "outputs": [
    {
     "name": "stdout",
     "output_type": "stream",
     "text": [
      "100\n"
     ]
    }
   ],
   "source": [
    "a=10\n",
    "a*=10\n",
    "print(a)"
   ]
  },
  {
   "cell_type": "code",
   "execution_count": 7,
   "id": "f87ec853",
   "metadata": {},
   "outputs": [
    {
     "name": "stdout",
     "output_type": "stream",
     "text": [
      "Enter a number2\n",
      "Enter a number4\n",
      "6\n"
     ]
    }
   ],
   "source": [
    "a=int(input(\"Enter a number\"))\n",
    "b=int(input(\"Enter a number\"))\n",
    "print(a+b)"
   ]
  },
  {
   "cell_type": "code",
   "execution_count": 10,
   "id": "36c216d5",
   "metadata": {},
   "outputs": [
    {
     "name": "stdout",
     "output_type": "stream",
     "text": [
      "Enter a first string: Chaitanya\n",
      "Enter a second string: Raju\n",
      "ChaitanyaRaju\n"
     ]
    }
   ],
   "source": [
    "a=input(\"Enter a first string: \")\n",
    "b=input(\"Enter a second string: \")\n",
    "print(a+b)"
   ]
  },
  {
   "cell_type": "code",
   "execution_count": 12,
   "id": "57f6d9d4",
   "metadata": {},
   "outputs": [
    {
     "name": "stdout",
     "output_type": "stream",
     "text": [
      "False\n",
      "False\n",
      "False\n"
     ]
    }
   ],
   "source": [
    "a=200\n",
    "b=300\n",
    "c=400\n",
    "print(a>b)\n",
    "print(b>c)\n",
    "print(a>c)"
   ]
  },
  {
   "cell_type": "code",
   "execution_count": 16,
   "id": "a70af3d1",
   "metadata": {},
   "outputs": [
    {
     "name": "stdout",
     "output_type": "stream",
     "text": [
      "Enter a otp: 100\n",
      "Correct,you can start bike ride\n"
     ]
    }
   ],
   "source": [
    "otp=int(input(\"Enter a otp: \"))\n",
    "if otp==100:\n",
    "    print(\"Correct,you can start bike ride\")\n",
    "else:\n",
    "    print(\"Incorrect,Enter a correct otp to start bike ride\")"
   ]
  },
  {
   "cell_type": "code",
   "execution_count": 1,
   "id": "aed0b35c",
   "metadata": {},
   "outputs": [
    {
     "data": {
      "text/plain": [
       "'chait'"
      ]
     },
     "execution_count": 1,
     "metadata": {},
     "output_type": "execute_result"
    }
   ],
   "source": [
    "a=\"chaitanya raju\"\n",
    "a[0:5]"
   ]
  },
  {
   "cell_type": "code",
   "execution_count": 2,
   "id": "f5938c89",
   "metadata": {},
   "outputs": [
    {
     "data": {
      "text/plain": [
       "'r'"
      ]
     },
     "execution_count": 2,
     "metadata": {},
     "output_type": "execute_result"
    }
   ],
   "source": [
    "a[10]"
   ]
  },
  {
   "cell_type": "code",
   "execution_count": 3,
   "id": "acd3eb2a",
   "metadata": {},
   "outputs": [
    {
     "data": {
      "text/plain": [
       "'car'"
      ]
     },
     "execution_count": 3,
     "metadata": {},
     "output_type": "execute_result"
    }
   ],
   "source": [
    "a[0:12:5]"
   ]
  },
  {
   "cell_type": "code",
   "execution_count": 4,
   "id": "fdab8e5b",
   "metadata": {},
   "outputs": [
    {
     "data": {
      "text/plain": [
       "'cin '"
      ]
     },
     "execution_count": 4,
     "metadata": {},
     "output_type": "execute_result"
    }
   ],
   "source": [
    "a[0:10:3]"
   ]
  },
  {
   "cell_type": "code",
   "execution_count": 7,
   "id": "39453f89",
   "metadata": {},
   "outputs": [
    {
     "data": {
      "text/plain": [
       "''"
      ]
     },
     "execution_count": 7,
     "metadata": {},
     "output_type": "execute_result"
    }
   ],
   "source": [
    "a[0:11:-1]\n",
    "a[0:10:-1]"
   ]
  },
  {
   "cell_type": "code",
   "execution_count": 8,
   "id": "6748031b",
   "metadata": {},
   "outputs": [
    {
     "data": {
      "text/plain": [
       "'r aynatiah'"
      ]
     },
     "execution_count": 8,
     "metadata": {},
     "output_type": "execute_result"
    }
   ],
   "source": [
    "a[10:0:-1]"
   ]
  },
  {
   "cell_type": "code",
   "execution_count": 9,
   "id": "b9cab32e",
   "metadata": {},
   "outputs": [
    {
     "data": {
      "text/plain": [
       "'ua yaih'"
      ]
     },
     "execution_count": 9,
     "metadata": {},
     "output_type": "execute_result"
    }
   ],
   "source": [
    "a[::-2]"
   ]
  },
  {
   "cell_type": "code",
   "execution_count": 9,
   "id": "c65dc8c7",
   "metadata": {},
   "outputs": [
    {
     "name": "stdout",
     "output_type": "stream",
     "text": [
      "[1, 2, 3, 4, 'hi', 'hello']\n"
     ]
    }
   ],
   "source": [
    "list=[1,2,3,4,\"hi\",\"hello\"]\n",
    "print(list)"
   ]
  },
  {
   "cell_type": "code",
   "execution_count": 10,
   "id": "6497b63a",
   "metadata": {},
   "outputs": [
    {
     "name": "stdout",
     "output_type": "stream",
     "text": [
      "[1, 2, 3, 4, 'hi', 'hello', 'bye']\n"
     ]
    }
   ],
   "source": [
    "list.append(\"bye\")\n",
    "print(list)"
   ]
  },
  {
   "cell_type": "code",
   "execution_count": 11,
   "id": "9579bd40",
   "metadata": {},
   "outputs": [
    {
     "name": "stdout",
     "output_type": "stream",
     "text": [
      "[1, 2, 3, 4, 'hello', 'bye']\n"
     ]
    }
   ],
   "source": [
    "list.pop(4)\n",
    "print(list)"
   ]
  },
  {
   "cell_type": "code",
   "execution_count": 13,
   "id": "622c2305",
   "metadata": {},
   "outputs": [
    {
     "name": "stdout",
     "output_type": "stream",
     "text": [
      "[1, 2, 3, 4, 'bye']\n"
     ]
    }
   ],
   "source": [
    "list.remove(\"hello\")\n",
    "print(list)"
   ]
  },
  {
   "cell_type": "code",
   "execution_count": 15,
   "id": "d925a2df",
   "metadata": {},
   "outputs": [],
   "source": [
    "list.extend([8,'virat'])"
   ]
  },
  {
   "cell_type": "code",
   "execution_count": 16,
   "id": "075cb07d",
   "metadata": {},
   "outputs": [
    {
     "name": "stdout",
     "output_type": "stream",
     "text": [
      "[1, 2, 3, 4, 'bye', 8, 'virat']\n"
     ]
    }
   ],
   "source": [
    "print(list)"
   ]
  },
  {
   "cell_type": "code",
   "execution_count": 17,
   "id": "5a48a19e",
   "metadata": {},
   "outputs": [
    {
     "name": "stdout",
     "output_type": "stream",
     "text": [
      "[]\n"
     ]
    }
   ],
   "source": [
    "list.clear()\n",
    "print(list)"
   ]
  },
  {
   "cell_type": "code",
   "execution_count": 23,
   "id": "4ef95d5b",
   "metadata": {},
   "outputs": [
    {
     "ename": "TypeError",
     "evalue": "'list' object is not callable",
     "output_type": "error",
     "traceback": [
      "\u001b[1;31m---------------------------------------------------------------------------\u001b[0m",
      "\u001b[1;31mTypeError\u001b[0m                                 Traceback (most recent call last)",
      "Cell \u001b[1;32mIn[23], line 4\u001b[0m\n\u001b[0;32m      2\u001b[0m l2 \u001b[38;5;241m=\u001b[39m [\u001b[38;5;124m\"\u001b[39m\u001b[38;5;124mhi\u001b[39m\u001b[38;5;124m\"\u001b[39m, \u001b[38;5;124m\"\u001b[39m\u001b[38;5;124mhello\u001b[39m\u001b[38;5;124m\"\u001b[39m, \u001b[38;5;124m\"\u001b[39m\u001b[38;5;124mnamasthe\u001b[39m\u001b[38;5;124m\"\u001b[39m, \u001b[38;5;124m\"\u001b[39m\u001b[38;5;124mbye\u001b[39m\u001b[38;5;124m\"\u001b[39m]\n\u001b[0;32m      3\u001b[0m final \u001b[38;5;241m=\u001b[39m \u001b[38;5;28mzip\u001b[39m(l1, l2)  \u001b[38;5;66;03m# Create a zip object\u001b[39;00m\n\u001b[1;32m----> 4\u001b[0m \u001b[38;5;28mprint\u001b[39m(\u001b[38;5;28mlist\u001b[39m(final))\n",
      "\u001b[1;31mTypeError\u001b[0m: 'list' object is not callable"
     ]
    }
   ],
   "source": [
    "l1 = [1, 2, 3, 4]\n",
    "l2 = [\"hi\", \"hello\", \"namasthe\", \"bye\"]\n",
    "final = zip(l1, l2)  # Create a zip object\n",
    "print(list(final))   # Correct usage of the zip object\n"
   ]
  },
  {
   "cell_type": "code",
   "execution_count": 24,
   "id": "ef6f679a",
   "metadata": {},
   "outputs": [],
   "source": [
    "del list"
   ]
  },
  {
   "cell_type": "code",
   "execution_count": 25,
   "id": "5a021a45",
   "metadata": {},
   "outputs": [
    {
     "name": "stdout",
     "output_type": "stream",
     "text": [
      "[(1, 'hi'), (2, 'hello'), (3, 'namasthe'), (4, 'bye')]\n"
     ]
    }
   ],
   "source": [
    "l1 = [1, 2, 3, 4]\n",
    "l2 = [\"hi\", \"hello\", \"namasthe\", \"bye\"]\n",
    "final = zip(l1, l2)  \n",
    "print(list(final))  \n"
   ]
  },
  {
   "cell_type": "code",
   "execution_count": 27,
   "id": "faf16370",
   "metadata": {},
   "outputs": [
    {
     "data": {
      "text/plain": [
       "[(0, 1), (1, 2), (2, 3), (3, 4), (4, 5), (5, 6)]"
      ]
     },
     "execution_count": 27,
     "metadata": {},
     "output_type": "execute_result"
    }
   ],
   "source": [
    "list1=[1,2,3,4,5,6]\n",
    "list(enumerate(list1))"
   ]
  },
  {
   "cell_type": "code",
   "execution_count": 31,
   "id": "3ca135da",
   "metadata": {},
   "outputs": [
    {
     "name": "stdout",
     "output_type": "stream",
     "text": [
      "[0, 2, 2, 3, 4, 5, 5, 23, 79, 85]\n"
     ]
    }
   ],
   "source": [
    "l1=[23,2,4,5,79,0,85,2,3,5]\n",
    "print(sorted(l1))"
   ]
  },
  {
   "cell_type": "code",
   "execution_count": 32,
   "id": "9496df84",
   "metadata": {},
   "outputs": [],
   "source": [
    "#tuple"
   ]
  },
  {
   "cell_type": "code",
   "execution_count": 33,
   "id": "2bc2387a",
   "metadata": {},
   "outputs": [
    {
     "name": "stdout",
     "output_type": "stream",
     "text": [
      "(1, 2, 'hi', 'hello')\n"
     ]
    }
   ],
   "source": [
    "tuple=(1,2,\"hi\",\"hello\")\n",
    "print(tuple)"
   ]
  },
  {
   "cell_type": "code",
   "execution_count": 36,
   "id": "59d97c80",
   "metadata": {},
   "outputs": [
    {
     "name": "stdout",
     "output_type": "stream",
     "text": [
      "(1, 2)\n"
     ]
    }
   ],
   "source": [
    "print(tuple[0:2])"
   ]
  },
  {
   "cell_type": "code",
   "execution_count": 4,
   "id": "539ba896",
   "metadata": {},
   "outputs": [
    {
     "data": {
      "text/html": [
       "<div>\n",
       "<style scoped>\n",
       "    .dataframe tbody tr th:only-of-type {\n",
       "        vertical-align: middle;\n",
       "    }\n",
       "\n",
       "    .dataframe tbody tr th {\n",
       "        vertical-align: top;\n",
       "    }\n",
       "\n",
       "    .dataframe thead th {\n",
       "        text-align: right;\n",
       "    }\n",
       "</style>\n",
       "<table border=\"1\" class=\"dataframe\">\n",
       "  <thead>\n",
       "    <tr style=\"text-align: right;\">\n",
       "      <th></th>\n",
       "      <th>Sentence</th>\n",
       "    </tr>\n",
       "  </thead>\n",
       "  <tbody>\n",
       "    <tr>\n",
       "      <th>0</th>\n",
       "      <td>Sarah lives in a hut in the village.</td>\n",
       "    </tr>\n",
       "    <tr>\n",
       "      <th>1</th>\n",
       "      <td>She has an apple tree in her backyard.</td>\n",
       "    </tr>\n",
       "    <tr>\n",
       "      <th>2</th>\n",
       "      <td>The apples are red in colour.</td>\n",
       "    </tr>\n",
       "  </tbody>\n",
       "</table>\n",
       "</div>"
      ],
      "text/plain": [
       "                                 Sentence\n",
       "0    Sarah lives in a hut in the village.\n",
       "1  She has an apple tree in her backyard.\n",
       "2           The apples are red in colour."
      ]
     },
     "execution_count": 4,
     "metadata": {},
     "output_type": "execute_result"
    }
   ],
   "source": [
    "import pandas as pd\n",
    "text=['Sarah lives in a hut in the village.',\n",
    "     'She has an apple tree in her backyard.',\n",
    "     'The apples are red in colour.']\n",
    "df=pd.DataFrame(text,columns=['Sentence'])\n",
    "df"
   ]
  },
  {
   "cell_type": "code",
   "execution_count": 5,
   "id": "575a9f32",
   "metadata": {},
   "outputs": [
    {
     "name": "stdout",
     "output_type": "stream",
     "text": [
      "Requirement already satisfied: spacy in c:\\users\\rajuc\\anaconda3\\lib\\site-packages (3.8.3)\n",
      "Requirement already satisfied: spacy-legacy<3.1.0,>=3.0.11 in c:\\users\\rajuc\\anaconda3\\lib\\site-packages (from spacy) (3.0.12)\n",
      "Requirement already satisfied: spacy-loggers<2.0.0,>=1.0.0 in c:\\users\\rajuc\\anaconda3\\lib\\site-packages (from spacy) (1.0.5)\n",
      "Requirement already satisfied: murmurhash<1.1.0,>=0.28.0 in c:\\users\\rajuc\\anaconda3\\lib\\site-packages (from spacy) (1.0.11)\n",
      "Requirement already satisfied: cymem<2.1.0,>=2.0.2 in c:\\users\\rajuc\\anaconda3\\lib\\site-packages (from spacy) (2.0.10)\n",
      "Requirement already satisfied: preshed<3.1.0,>=3.0.2 in c:\\users\\rajuc\\anaconda3\\lib\\site-packages (from spacy) (3.0.9)\n",
      "Requirement already satisfied: thinc<8.4.0,>=8.3.0 in c:\\users\\rajuc\\anaconda3\\lib\\site-packages (from spacy) (8.3.3)\n",
      "Requirement already satisfied: wasabi<1.2.0,>=0.9.1 in c:\\users\\rajuc\\anaconda3\\lib\\site-packages (from spacy) (1.1.3)\n",
      "Requirement already satisfied: srsly<3.0.0,>=2.4.3 in c:\\users\\rajuc\\anaconda3\\lib\\site-packages (from spacy) (2.5.0)\n",
      "Requirement already satisfied: catalogue<2.1.0,>=2.0.6 in c:\\users\\rajuc\\anaconda3\\lib\\site-packages (from spacy) (2.0.10)\n",
      "Requirement already satisfied: weasel<0.5.0,>=0.1.0 in c:\\users\\rajuc\\anaconda3\\lib\\site-packages (from spacy) (0.4.1)\n",
      "Requirement already satisfied: typer<1.0.0,>=0.3.0 in c:\\users\\rajuc\\anaconda3\\lib\\site-packages (from spacy) (0.15.1)\n",
      "Requirement already satisfied: tqdm<5.0.0,>=4.38.0 in c:\\users\\rajuc\\appdata\\roaming\\python\\python311\\site-packages (from spacy) (4.66.2)\n",
      "Requirement already satisfied: numpy>=1.19.0 in c:\\users\\rajuc\\appdata\\roaming\\python\\python311\\site-packages (from spacy) (1.26.4)\n",
      "Requirement already satisfied: requests<3.0.0,>=2.13.0 in c:\\users\\rajuc\\appdata\\roaming\\python\\python311\\site-packages (from spacy) (2.31.0)\n",
      "Requirement already satisfied: pydantic!=1.8,!=1.8.1,<3.0.0,>=1.7.4 in c:\\users\\rajuc\\anaconda3\\lib\\site-packages (from spacy) (1.10.8)\n",
      "Requirement already satisfied: jinja2 in c:\\users\\rajuc\\appdata\\roaming\\python\\python311\\site-packages (from spacy) (3.1.2)\n",
      "Requirement already satisfied: setuptools in c:\\users\\rajuc\\anaconda3\\lib\\site-packages (from spacy) (68.0.0)\n",
      "Requirement already satisfied: packaging>=20.0 in c:\\users\\rajuc\\appdata\\roaming\\python\\python311\\site-packages (from spacy) (23.2)\n",
      "Requirement already satisfied: langcodes<4.0.0,>=3.2.0 in c:\\users\\rajuc\\anaconda3\\lib\\site-packages (from spacy) (3.5.0)\n",
      "Requirement already satisfied: language-data>=1.2 in c:\\users\\rajuc\\anaconda3\\lib\\site-packages (from langcodes<4.0.0,>=3.2.0->spacy) (1.3.0)\n",
      "Requirement already satisfied: typing-extensions>=4.2.0 in c:\\users\\rajuc\\appdata\\roaming\\python\\python311\\site-packages (from pydantic!=1.8,!=1.8.1,<3.0.0,>=1.7.4->spacy) (4.8.0)\n",
      "Requirement already satisfied: charset-normalizer<4,>=2 in c:\\users\\rajuc\\appdata\\roaming\\python\\python311\\site-packages (from requests<3.0.0,>=2.13.0->spacy) (3.3.2)\n",
      "Requirement already satisfied: idna<4,>=2.5 in c:\\users\\rajuc\\appdata\\roaming\\python\\python311\\site-packages (from requests<3.0.0,>=2.13.0->spacy) (2.10)\n",
      "Requirement already satisfied: urllib3<3,>=1.21.1 in c:\\users\\rajuc\\appdata\\roaming\\python\\python311\\site-packages (from requests<3.0.0,>=2.13.0->spacy) (2.1.0)\n",
      "Requirement already satisfied: certifi>=2017.4.17 in c:\\users\\rajuc\\appdata\\roaming\\python\\python311\\site-packages (from requests<3.0.0,>=2.13.0->spacy) (2023.11.17)\n",
      "Requirement already satisfied: blis<1.2.0,>=1.1.0 in c:\\users\\rajuc\\anaconda3\\lib\\site-packages (from thinc<8.4.0,>=8.3.0->spacy) (1.1.0)\n",
      "Requirement already satisfied: confection<1.0.0,>=0.0.1 in c:\\users\\rajuc\\anaconda3\\lib\\site-packages (from thinc<8.4.0,>=8.3.0->spacy) (0.1.5)\n",
      "Requirement already satisfied: colorama in c:\\users\\rajuc\\appdata\\roaming\\python\\python311\\site-packages (from tqdm<5.0.0,>=4.38.0->spacy) (0.4.6)\n",
      "Requirement already satisfied: click>=8.0.0 in c:\\users\\rajuc\\appdata\\roaming\\python\\python311\\site-packages (from typer<1.0.0,>=0.3.0->spacy) (8.1.7)\n",
      "Requirement already satisfied: shellingham>=1.3.0 in c:\\users\\rajuc\\anaconda3\\lib\\site-packages (from typer<1.0.0,>=0.3.0->spacy) (1.5.4)\n",
      "Requirement already satisfied: rich>=10.11.0 in c:\\users\\rajuc\\appdata\\roaming\\python\\python311\\site-packages (from typer<1.0.0,>=0.3.0->spacy) (13.7.0)\n",
      "Requirement already satisfied: cloudpathlib<1.0.0,>=0.7.0 in c:\\users\\rajuc\\anaconda3\\lib\\site-packages (from weasel<0.5.0,>=0.1.0->spacy) (0.20.0)\n",
      "Requirement already satisfied: smart-open<8.0.0,>=5.2.1 in c:\\users\\rajuc\\anaconda3\\lib\\site-packages (from weasel<0.5.0,>=0.1.0->spacy) (5.2.1)\n",
      "Requirement already satisfied: MarkupSafe>=2.0 in c:\\users\\rajuc\\appdata\\roaming\\python\\python311\\site-packages (from jinja2->spacy) (2.1.3)\n",
      "Requirement already satisfied: marisa-trie>=1.1.0 in c:\\users\\rajuc\\anaconda3\\lib\\site-packages (from language-data>=1.2->langcodes<4.0.0,>=3.2.0->spacy) (1.2.1)\n",
      "Requirement already satisfied: markdown-it-py>=2.2.0 in c:\\users\\rajuc\\appdata\\roaming\\python\\python311\\site-packages (from rich>=10.11.0->typer<1.0.0,>=0.3.0->spacy) (3.0.0)\n",
      "Requirement already satisfied: pygments<3.0.0,>=2.13.0 in c:\\users\\rajuc\\appdata\\roaming\\python\\python311\\site-packages (from rich>=10.11.0->typer<1.0.0,>=0.3.0->spacy) (2.17.2)\n",
      "Requirement already satisfied: mdurl~=0.1 in c:\\users\\rajuc\\appdata\\roaming\\python\\python311\\site-packages (from markdown-it-py>=2.2.0->rich>=10.11.0->typer<1.0.0,>=0.3.0->spacy) (0.1.2)\n"
     ]
    }
   ],
   "source": [
    "!pip install spacy"
   ]
  },
  {
   "cell_type": "code",
   "execution_count": 6,
   "id": "71d7d6d6",
   "metadata": {},
   "outputs": [
    {
     "name": "stdout",
     "output_type": "stream",
     "text": [
      "Collecting en-core-web-sm==3.8.0\n",
      "  Downloading https://github.com/explosion/spacy-models/releases/download/en_core_web_sm-3.8.0/en_core_web_sm-3.8.0-py3-none-any.whl (12.8 MB)\n",
      "     ---------------------------------------- 0.0/12.8 MB ? eta -:--:--\n",
      "     ---------------------------------------- 0.0/12.8 MB ? eta -:--:--\n",
      "     ---------------------------------------- 0.0/12.8 MB ? eta -:--:--\n",
      "     ---------------------------------------- 0.0/12.8 MB ? eta -:--:--\n",
      "      --------------------------------------- 0.3/12.8 MB ? eta -:--:--\n",
      "     - ------------------------------------- 0.5/12.8 MB 764.3 kB/s eta 0:00:17\n",
      "     -- ------------------------------------- 0.8/12.8 MB 1.0 MB/s eta 0:00:12\n",
      "     -- ------------------------------------- 0.8/12.8 MB 1.0 MB/s eta 0:00:12\n",
      "     -- ------------------------------------- 0.8/12.8 MB 1.0 MB/s eta 0:00:12\n",
      "     --- ----------------------------------- 1.0/12.8 MB 719.5 kB/s eta 0:00:17\n",
      "     --- ----------------------------------- 1.3/12.8 MB 762.6 kB/s eta 0:00:16\n",
      "     ---- ---------------------------------- 1.6/12.8 MB 830.6 kB/s eta 0:00:14\n",
      "     ----- --------------------------------- 1.8/12.8 MB 875.8 kB/s eta 0:00:13\n",
      "     ----- --------------------------------- 1.8/12.8 MB 875.8 kB/s eta 0:00:13\n",
      "     ------ -------------------------------- 2.1/12.8 MB 804.5 kB/s eta 0:00:14\n",
      "     ------ -------------------------------- 2.1/12.8 MB 804.5 kB/s eta 0:00:14\n",
      "     ------- ------------------------------- 2.4/12.8 MB 794.4 kB/s eta 0:00:14\n",
      "     ------- ------------------------------- 2.4/12.8 MB 794.4 kB/s eta 0:00:14\n",
      "     ------- ------------------------------- 2.6/12.8 MB 758.9 kB/s eta 0:00:14\n",
      "     ------- ------------------------------- 2.6/12.8 MB 758.9 kB/s eta 0:00:14\n",
      "     -------- ------------------------------ 2.9/12.8 MB 780.4 kB/s eta 0:00:13\n",
      "     --------- ----------------------------- 3.1/12.8 MB 788.7 kB/s eta 0:00:13\n",
      "     --------- ----------------------------- 3.1/12.8 MB 788.7 kB/s eta 0:00:13\n",
      "     ---------- ---------------------------- 3.4/12.8 MB 774.4 kB/s eta 0:00:13\n",
      "     ----------- --------------------------- 3.7/12.8 MB 801.9 kB/s eta 0:00:12\n",
      "     ----------- --------------------------- 3.9/12.8 MB 810.0 kB/s eta 0:00:11\n",
      "     ----------- --------------------------- 3.9/12.8 MB 810.0 kB/s eta 0:00:11\n",
      "     ------------ -------------------------- 4.2/12.8 MB 811.9 kB/s eta 0:00:11\n",
      "     ------------ -------------------------- 4.2/12.8 MB 811.9 kB/s eta 0:00:11\n",
      "     ------------- ------------------------- 4.5/12.8 MB 798.9 kB/s eta 0:00:11\n",
      "     -------------- ------------------------ 4.7/12.8 MB 815.0 kB/s eta 0:00:10\n",
      "     --------------- ----------------------- 5.0/12.8 MB 820.6 kB/s eta 0:00:10\n",
      "     --------------- ----------------------- 5.0/12.8 MB 820.6 kB/s eta 0:00:10\n",
      "     --------------- ----------------------- 5.2/12.8 MB 813.2 kB/s eta 0:00:10\n",
      "     ---------------- ---------------------- 5.5/12.8 MB 818.4 kB/s eta 0:00:09\n",
      "     ---------------- ---------------------- 5.5/12.8 MB 818.4 kB/s eta 0:00:09\n",
      "     ----------------- --------------------- 5.8/12.8 MB 815.6 kB/s eta 0:00:09\n",
      "     ------------------- ------------------- 6.3/12.8 MB 859.5 kB/s eta 0:00:08\n",
      "     ------------------- ------------------- 6.6/12.8 MB 866.0 kB/s eta 0:00:08\n",
      "     -------------------- ------------------ 6.8/12.8 MB 883.1 kB/s eta 0:00:07\n",
      "     ---------------------- ---------------- 7.3/12.8 MB 917.1 kB/s eta 0:00:06\n",
      "     ----------------------- --------------- 7.6/12.8 MB 930.3 kB/s eta 0:00:06\n",
      "     ----------------------- --------------- 7.6/12.8 MB 930.3 kB/s eta 0:00:06\n",
      "     ----------------------- --------------- 7.9/12.8 MB 912.8 kB/s eta 0:00:06\n",
      "     ------------------------ -------------- 8.1/12.8 MB 930.4 kB/s eta 0:00:06\n",
      "     ------------------------- ------------- 8.4/12.8 MB 947.4 kB/s eta 0:00:05\n",
      "     -------------------------- ------------ 8.7/12.8 MB 946.9 kB/s eta 0:00:05\n",
      "     -------------------------- ------------ 8.7/12.8 MB 946.9 kB/s eta 0:00:05\n",
      "     -------------------------- ------------ 8.7/12.8 MB 946.9 kB/s eta 0:00:05\n",
      "     --------------------------- ----------- 9.2/12.8 MB 929.1 kB/s eta 0:00:04\n",
      "     ---------------------------- ---------- 9.4/12.8 MB 944.1 kB/s eta 0:00:04\n",
      "     ----------------------------- --------- 9.7/12.8 MB 952.7 kB/s eta 0:00:04\n",
      "     ----------------------------- -------- 10.0/12.8 MB 965.5 kB/s eta 0:00:03\n",
      "     ------------------------------- ------ 10.5/12.8 MB 982.5 kB/s eta 0:00:03\n",
      "     ---------------------------------- ----- 11.0/12.8 MB 1.0 MB/s eta 0:00:02\n",
      "     ----------------------------------- ---- 11.3/12.8 MB 1.0 MB/s eta 0:00:02\n",
      "     ------------------------------------ --- 11.5/12.8 MB 1.0 MB/s eta 0:00:02\n",
      "     ------------------------------------ --- 11.8/12.8 MB 1.0 MB/s eta 0:00:01\n",
      "     -------------------------------------- - 12.3/12.8 MB 1.1 MB/s eta 0:00:01\n",
      "     -------------------------------------- - 12.3/12.8 MB 1.1 MB/s eta 0:00:01\n",
      "     ---------------------------------------  12.6/12.8 MB 1.0 MB/s eta 0:00:01\n",
      "     ---------------------------------------- 12.8/12.8 MB 1.1 MB/s eta 0:00:00\n",
      "Installing collected packages: en-core-web-sm\n",
      "Successfully installed en-core-web-sm-3.8.0\n",
      "\u001b[38;5;2m[+] Download and installation successful\u001b[0m\n",
      "You can now load the package via spacy.load('en_core_web_sm')\n"
     ]
    },
    {
     "name": "stderr",
     "output_type": "stream",
     "text": [
      "\n",
      "[notice] A new release of pip is available: 24.2 -> 24.3.1\n",
      "[notice] To update, run: python.exe -m pip install --upgrade pip\n"
     ]
    }
   ],
   "source": [
    "!python -m spacy download en_core_web_sm"
   ]
  },
  {
   "cell_type": "code",
   "execution_count": 13,
   "id": "636969c0",
   "metadata": {},
   "outputs": [],
   "source": [
    "import  spacy\n",
    "nlp=spacy.load(\"en_core_web_sm\")\n",
    "token=[]\n",
    "pos=[]\n",
    "for sent in nlp.pipe(df['Sentence']):\n",
    "    if sent.has_annotation('DEP'):\n",
    "        token.append([word.text for word in sent])\n",
    "        pos.append([word.pos_ for word in sent])"
   ]
  },
  {
   "cell_type": "code",
   "execution_count": 14,
   "id": "f046858b",
   "metadata": {},
   "outputs": [
    {
     "data": {
      "text/plain": [
       "[['Sarah', 'lives', 'in', 'a', 'hut', 'in', 'the', 'village', '.'],\n",
       " ['She', 'has', 'an', 'apple', 'tree', 'in', 'her', 'backyard', '.'],\n",
       " ['The', 'apples', 'are', 'red', 'in', 'colour', '.']]"
      ]
     },
     "execution_count": 14,
     "metadata": {},
     "output_type": "execute_result"
    }
   ],
   "source": [
    "token"
   ]
  },
  {
   "cell_type": "code",
   "execution_count": 15,
   "id": "df2b7668",
   "metadata": {},
   "outputs": [
    {
     "data": {
      "text/plain": [
       "[['PROPN', 'VERB', 'ADP', 'DET', 'NOUN', 'ADP', 'DET', 'NOUN', 'PUNCT'],\n",
       " ['PRON', 'VERB', 'DET', 'NOUN', 'NOUN', 'ADP', 'PRON', 'NOUN', 'PUNCT'],\n",
       " ['DET', 'NOUN', 'AUX', 'ADJ', 'ADP', 'NOUN', 'PUNCT']]"
      ]
     },
     "execution_count": 15,
     "metadata": {},
     "output_type": "execute_result"
    }
   ],
   "source": [
    "pos"
   ]
  },
  {
   "cell_type": "code",
   "execution_count": 16,
   "id": "cc134be1",
   "metadata": {},
   "outputs": [],
   "source": [
    "df['token']=token\n",
    "df['pos']=pos"
   ]
  },
  {
   "cell_type": "code",
   "execution_count": 17,
   "id": "aa1cbbae",
   "metadata": {},
   "outputs": [
    {
     "data": {
      "text/html": [
       "<div>\n",
       "<style scoped>\n",
       "    .dataframe tbody tr th:only-of-type {\n",
       "        vertical-align: middle;\n",
       "    }\n",
       "\n",
       "    .dataframe tbody tr th {\n",
       "        vertical-align: top;\n",
       "    }\n",
       "\n",
       "    .dataframe thead th {\n",
       "        text-align: right;\n",
       "    }\n",
       "</style>\n",
       "<table border=\"1\" class=\"dataframe\">\n",
       "  <thead>\n",
       "    <tr style=\"text-align: right;\">\n",
       "      <th></th>\n",
       "      <th>Sentence</th>\n",
       "      <th>token</th>\n",
       "      <th>pos</th>\n",
       "    </tr>\n",
       "  </thead>\n",
       "  <tbody>\n",
       "    <tr>\n",
       "      <th>0</th>\n",
       "      <td>Sarah lives in a hut in the village.</td>\n",
       "      <td>[Sarah, lives, in, a, hut, in, the, village, .]</td>\n",
       "      <td>[PROPN, VERB, ADP, DET, NOUN, ADP, DET, NOUN, ...</td>\n",
       "    </tr>\n",
       "    <tr>\n",
       "      <th>1</th>\n",
       "      <td>She has an apple tree in her backyard.</td>\n",
       "      <td>[She, has, an, apple, tree, in, her, backyard, .]</td>\n",
       "      <td>[PRON, VERB, DET, NOUN, NOUN, ADP, PRON, NOUN,...</td>\n",
       "    </tr>\n",
       "    <tr>\n",
       "      <th>2</th>\n",
       "      <td>The apples are red in colour.</td>\n",
       "      <td>[The, apples, are, red, in, colour, .]</td>\n",
       "      <td>[DET, NOUN, AUX, ADJ, ADP, NOUN, PUNCT]</td>\n",
       "    </tr>\n",
       "  </tbody>\n",
       "</table>\n",
       "</div>"
      ],
      "text/plain": [
       "                                 Sentence  \\\n",
       "0    Sarah lives in a hut in the village.   \n",
       "1  She has an apple tree in her backyard.   \n",
       "2           The apples are red in colour.   \n",
       "\n",
       "                                               token  \\\n",
       "0    [Sarah, lives, in, a, hut, in, the, village, .]   \n",
       "1  [She, has, an, apple, tree, in, her, backyard, .]   \n",
       "2             [The, apples, are, red, in, colour, .]   \n",
       "\n",
       "                                                 pos  \n",
       "0  [PROPN, VERB, ADP, DET, NOUN, ADP, DET, NOUN, ...  \n",
       "1  [PRON, VERB, DET, NOUN, NOUN, ADP, PRON, NOUN,...  \n",
       "2            [DET, NOUN, AUX, ADJ, ADP, NOUN, PUNCT]  "
      ]
     },
     "execution_count": 17,
     "metadata": {},
     "output_type": "execute_result"
    }
   ],
   "source": [
    "df.head()"
   ]
  },
  {
   "cell_type": "code",
   "execution_count": 19,
   "id": "d1d7cdc4",
   "metadata": {},
   "outputs": [
    {
     "data": {
      "text/html": [
       "<div>\n",
       "<style scoped>\n",
       "    .dataframe tbody tr th:only-of-type {\n",
       "        vertical-align: middle;\n",
       "    }\n",
       "\n",
       "    .dataframe tbody tr th {\n",
       "        vertical-align: top;\n",
       "    }\n",
       "\n",
       "    .dataframe thead th {\n",
       "        text-align: right;\n",
       "    }\n",
       "</style>\n",
       "<table border=\"1\" class=\"dataframe\">\n",
       "  <thead>\n",
       "    <tr style=\"text-align: right;\">\n",
       "      <th></th>\n",
       "      <th>Sentence</th>\n",
       "      <th>token</th>\n",
       "      <th>pos</th>\n",
       "      <th>noun</th>\n",
       "      <th>verb</th>\n",
       "      <th>adj</th>\n",
       "      <th>punct</th>\n",
       "    </tr>\n",
       "  </thead>\n",
       "  <tbody>\n",
       "    <tr>\n",
       "      <th>0</th>\n",
       "      <td>Sarah lives in a hut in the village.</td>\n",
       "      <td>[Sarah, lives, in, a, hut, in, the, village, .]</td>\n",
       "      <td>[PROPN, VERB, ADP, DET, NOUN, ADP, DET, NOUN, ...</td>\n",
       "      <td>2</td>\n",
       "      <td>1</td>\n",
       "      <td>0</td>\n",
       "      <td>1</td>\n",
       "    </tr>\n",
       "    <tr>\n",
       "      <th>1</th>\n",
       "      <td>She has an apple tree in her backyard.</td>\n",
       "      <td>[She, has, an, apple, tree, in, her, backyard, .]</td>\n",
       "      <td>[PRON, VERB, DET, NOUN, NOUN, ADP, PRON, NOUN,...</td>\n",
       "      <td>3</td>\n",
       "      <td>1</td>\n",
       "      <td>0</td>\n",
       "      <td>1</td>\n",
       "    </tr>\n",
       "    <tr>\n",
       "      <th>2</th>\n",
       "      <td>The apples are red in colour.</td>\n",
       "      <td>[The, apples, are, red, in, colour, .]</td>\n",
       "      <td>[DET, NOUN, AUX, ADJ, ADP, NOUN, PUNCT]</td>\n",
       "      <td>2</td>\n",
       "      <td>0</td>\n",
       "      <td>1</td>\n",
       "      <td>1</td>\n",
       "    </tr>\n",
       "  </tbody>\n",
       "</table>\n",
       "</div>"
      ],
      "text/plain": [
       "                                 Sentence  \\\n",
       "0    Sarah lives in a hut in the village.   \n",
       "1  She has an apple tree in her backyard.   \n",
       "2           The apples are red in colour.   \n",
       "\n",
       "                                               token  \\\n",
       "0    [Sarah, lives, in, a, hut, in, the, village, .]   \n",
       "1  [She, has, an, apple, tree, in, her, backyard, .]   \n",
       "2             [The, apples, are, red, in, colour, .]   \n",
       "\n",
       "                                                 pos  noun  verb  adj  punct  \n",
       "0  [PROPN, VERB, ADP, DET, NOUN, ADP, DET, NOUN, ...     2     1    0      1  \n",
       "1  [PRON, VERB, DET, NOUN, NOUN, ADP, PRON, NOUN,...     3     1    0      1  \n",
       "2            [DET, NOUN, AUX, ADJ, ADP, NOUN, PUNCT]     2     0    1      1  "
      ]
     },
     "execution_count": 19,
     "metadata": {},
     "output_type": "execute_result"
    }
   ],
   "source": [
    "df['noun']=df.apply(lambda x: x['pos'].count('NOUN'),axis=1)\n",
    "df['verb']=df.apply(lambda x: x['pos'].count('VERB'),axis=1)\n",
    "df['adj']=df.apply(lambda x: x['pos'].count('ADJ'),axis=1)\n",
    "df['punct']=df.apply(lambda x: x['pos'].count('PUNCT'),axis=1)\n",
    "df"
   ]
  },
  {
   "cell_type": "code",
   "execution_count": null,
   "id": "5c3a9842",
   "metadata": {},
   "outputs": [],
   "source": []
  }
 ],
 "metadata": {
  "kernelspec": {
   "display_name": "Python 3 (ipykernel)",
   "language": "python",
   "name": "python3"
  },
  "language_info": {
   "codemirror_mode": {
    "name": "ipython",
    "version": 3
   },
   "file_extension": ".py",
   "mimetype": "text/x-python",
   "name": "python",
   "nbconvert_exporter": "python",
   "pygments_lexer": "ipython3",
   "version": "3.11.5"
  }
 },
 "nbformat": 4,
 "nbformat_minor": 5
}
